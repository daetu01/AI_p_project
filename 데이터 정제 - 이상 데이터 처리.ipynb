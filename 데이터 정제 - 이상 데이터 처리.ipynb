{
 "cells": [
  {
   "cell_type": "code",
   "execution_count": 1,
   "id": "fdd0cb78-f7fa-4d2c-b555-cd3d2e17f59f",
   "metadata": {},
   "outputs": [],
   "source": [
    "# 이상치 ( Outlier )\n",
    "# : 관측된 데이터 내 전체적 패턴에서 아주 작게 혹은 아주 크게 벗어난 값 \n",
    "# : 데이터 분석 과정 및 결과에서 영향을 미쳐 분석 결과 및 의사 결정의 왜곡을 불러일으킬 수 있음. "
   ]
  },
  {
   "cell_type": "code",
   "execution_count": 3,
   "id": "e4a188d8-d468-4eba-a816-916d9183f571",
   "metadata": {},
   "outputs": [],
   "source": [
    "# 이상치 유형 \n",
    "# : 잘못 수집되거나 실제 극단치의 값을 지닌 경우로 발생 가능 \n",
    "\n",
    "# 오류 데이터 : 센서 혹은 시스템 오류로 인해 잘못된 값을 수집 \n",
    "# 수집 기기 등의 이유로 잘못도니 데이터 수집\n",
    "\n",
    "# 실제 데이터 : 극단적 관측치로 인해 일반적 관측 범위를 벗어남 \n",
    "# 전체적인 패턴을 깨뜨리는 값 : 자료의 왜곡을 발생시키는 극단치 \n",
    "\n",
    "# 이상치 처리 프로세스 \n",
    "# 통계적 방안 \n",
    "# : 통계적 연산 기반의 이상치 판단 ( Z - Score, IQR ) \n",
    "\n",
    "# 인적 판단 방안\n",
    "# : 현업 관리자의 데이터 및 비즈니스 관점 기반의 이상치 여부 판단 \n",
    "\n",
    "# 이상치 처리\n",
    "# : 삭제, 대체 등 방안을 적용하여 처리 \n",
    "\n",
    "# 이상치 판단 방안\n",
    "# : 통계적 연산 기반 대표적 이상치 판단 방안 \n",
    "# : Z - Score , IQR (Interquartile Range)  \n",
    "# : Z - Score : \n",
    "# 해당 데이터가 평균으로부터 얼마의 표준편차 만큼 벗어나 있는지를 의미 \n",
    "# 일반적으로, -3이하 3이상 Z 값 관측치는 이상치로 정의 \n",
    "\n",
    "# IQR(Interquartile Range)\n",
    "# 사분위수 개념 기반의 이상치 판단 방안으로 데이터 흩어짐 정도를 기반으로 이상치를 정의 \n",
    "# Min, Max 범위를 벗어난 관측치는 이상치로 정의 \n",
    "\n",
    "# 이상치 처리 방안 \n",
    "# 삭제 : 대체방안이 없거나 이상치 수가 적을 경우 활용\n",
    "# : 이상치 값이 의미를 지니지 않을 경우 활용\n",
    "# 데이터 손실 발생\n",
    "\n",
    "# 대체 및 변경 : \n",
    "# 최대한 데이터 활용을 목적으로 할 경우 활용\n",
    "# 현업 관점에서 정의된 기준 기반의 다른 값으로 대체 \n",
    "# 데이터가 의미를 지닐 경우 Log 변환 등을 활용한 데이터 간격 조정으로 변경\n",
    "# 현업 / 데이터 관점을 신중히 고려하여 적용 필요 "
   ]
  },
  {
   "cell_type": "code",
   "execution_count": null,
   "id": "b045ebb6-8783-4c76-a7fd-014a58a5f38c",
   "metadata": {},
   "outputs": [],
   "source": [
    "# 이상치 다루기 "
   ]
  }
 ],
 "metadata": {
  "kernelspec": {
   "display_name": "dx_env",
   "language": "python",
   "name": "dx_env"
  },
  "language_info": {
   "codemirror_mode": {
    "name": "ipython",
    "version": 3
   },
   "file_extension": ".py",
   "mimetype": "text/x-python",
   "name": "python",
   "nbconvert_exporter": "python",
   "pygments_lexer": "ipython3",
   "version": "3.8.19"
  }
 },
 "nbformat": 4,
 "nbformat_minor": 5
}
