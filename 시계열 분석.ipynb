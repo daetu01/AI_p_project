{
 "cells": [
  {
   "cell_type": "code",
   "execution_count": 1,
   "id": "38685326",
   "metadata": {},
   "outputs": [],
   "source": [
    "# 시계열 데이터\n",
    "# : 순차적인 시간의 흐름에 따라 기록된 데이터를 의미"
   ]
  },
  {
   "cell_type": "code",
   "execution_count": 2,
   "id": "cbc1188a",
   "metadata": {},
   "outputs": [],
   "source": [
    "# 추세 : 시간의 흐름에 따라 점진적이고 지속적인 변화\n",
    "# 계절성 : 특정 주기에 따라 일정한 패턴을 갖는 변화\n",
    "# 싸이클 : 경제 또는 사회적 요인에 의한 변화 ( 예 : 경기 변동) 이며, 일정 주기가 없고 장기적인 변화\n",
    "# 잔차 : 설명할 수 없는 변화"
   ]
  },
  {
   "cell_type": "code",
   "execution_count": 3,
   "id": "e294a172",
   "metadata": {},
   "outputs": [],
   "source": [
    "# 시계열 분석의 특징 \n",
    "# : 현재 시점의 시계열 데이터를 분석하는 데 이전 시간의 값이 현재에도 영향을 끼칠 것이라는 가정 하에 회귀분석을 진행 "
   ]
  },
  {
   "cell_type": "code",
   "execution_count": null,
   "id": "0eb8e7d0",
   "metadata": {},
   "outputs": [],
   "source": []
  }
 ],
 "metadata": {
  "kernelspec": {
   "display_name": "dx_env",
   "language": "python",
   "name": "dx_env"
  },
  "language_info": {
   "codemirror_mode": {
    "name": "ipython",
    "version": 3
   },
   "file_extension": ".py",
   "mimetype": "text/x-python",
   "name": "python",
   "nbconvert_exporter": "python",
   "pygments_lexer": "ipython3",
   "version": "3.8.19"
  }
 },
 "nbformat": 4,
 "nbformat_minor": 5
}
